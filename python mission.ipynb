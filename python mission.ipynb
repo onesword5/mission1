{
 "cells": [
  {
   "cell_type": "code",
   "execution_count": 28,
   "id": "14071194-9ad8-44de-85f6-82db394b0208",
   "metadata": {},
   "outputs": [
    {
     "name": "stdout",
     "output_type": "stream",
     "text": [
      "사이다: 1700\n",
      "콜라: 1900\n",
      "식혜: 2500\n",
      "솔의눈: 3400\n"
     ]
    },
    {
     "name": "stdin",
     "output_type": "stream",
     "text": [
      "음료를 선택해 주세요. tlrgP\n"
     ]
    },
    {
     "name": "stdout",
     "output_type": "stream",
     "text": [
      "잘못된 선택입니다. 다시 입력해주세요.\n"
     ]
    },
    {
     "name": "stdin",
     "output_type": "stream",
     "text": [
      "음료를 선택해 주세요:  식혜\n"
     ]
    },
    {
     "name": "stdout",
     "output_type": "stream",
     "text": [
      "2500\n"
     ]
    },
    {
     "name": "stdin",
     "output_type": "stream",
     "text": [
      "돈을 넣어주세요 153\n"
     ]
    },
    {
     "name": "stdout",
     "output_type": "stream",
     "text": [
      "돈이 부족합니다. 2347원이 더 필요합니다.\n"
     ]
    },
    {
     "name": "stdin",
     "output_type": "stream",
     "text": [
      "돈을 넣어주세요 2347\n"
     ]
    },
    {
     "name": "stdout",
     "output_type": "stream",
     "text": [
      "감사합니다\n"
     ]
    }
   ],
   "source": [
    "beverages = {\n",
    "\t\t\"사이다\": 1700,\n",
    "\t\t\"콜라\": 1900,\n",
    "\t\t\"식혜\": 2500,\n",
    "\t\t\"솔의눈\": 3400\n",
    "}\n",
    "\n",
    "for key, value in beverages.items():\n",
    "    print(f'{key}: {value}')\n",
    "\n",
    "user_pick = input('음료를 선택해 주세요.')\n",
    "                 \n",
    "while True:\n",
    "    if user_pick in beverages.keys():\n",
    "        print(beverages[user_pick])\n",
    "        break\n",
    "    else:\n",
    "        print('잘못된 선택입니다. 다시 입력해주세요.')\n",
    "        user_pick = input('음료를 선택해 주세요: ')\n",
    "\n",
    "money = int(input(\"돈을 넣어주세요\"))\n",
    "\n",
    "while True:\n",
    "    if money < beverages[user_pick]:\n",
    "        print(f'돈이 부족합니다. {beverages[user_pick] - money}원이 더 필요합니다.')\n",
    "        money += int(input(\"돈을 넣어주세요\"))\n",
    "\n",
    "    elif money > beverages[user_pick]: \n",
    "        print(f'감사합니다. {money-beverages[user_pick]}원 받아가세요')\n",
    "        break\n",
    "\n",
    "    elif money == beverages[user_pick]:\n",
    "        print('감사합니다')\n",
    "        break\n",
    "#딕셔너리를 만들고 딕셔너리 print문은 힌트를 보고 beverages.items() 함수를 인지하고 적용\n",
    "#딕셔너리를 반복 조건문에 대입하지를 못하다가 beverages에 key를 넣어서 value값이 나온다는 것을 인지\n",
    "#beverages.keys()를 beverages.key()로 입력해 print 출력이 안돼서 검색을 통해 전체 beverage가져오는 법을 인지\n",
    "#user_pick 조건문에서 break문을 else에 넣었다가 무한 루프를 만들어버려서 수정했음\n",
    "#money조건문은 완성했으나 부족금액과 남는 금액 계산을 {money}-{beverages[user_pick]}이런 식으로 해서 오류로 오류문을 보며 수정을 반복하다. 찾아냄\n",
    "#else문이 꼭 필요해 보여 넣었다가 무한루프 생성 => else문을 지워버림\n"
   ]
  },
  {
   "cell_type": "code",
   "execution_count": 37,
   "id": "8dfa50bb-2c09-47a7-8932-7ed8d0fddbf2",
   "metadata": {},
   "outputs": [
    {
     "name": "stdout",
     "output_type": "stream",
     "text": [
      "기철초풍 노란색의 개발자\n"
     ]
    }
   ],
   "source": [
    "import random\n",
    "\n",
    "nick_1 = ['기철초풍', '멋있는', '재미있는']\n",
    "nick_2 = ['도전적인', '노란색의', '바보같은']\n",
    "nick_3 = ['돌고래', '개발자', '오랑우탄']\n",
    "\n",
    "def creat_random_name():\n",
    "    one_nick = random.choice(nick_1)\n",
    "    two_nick = random.choice(nick_2)\n",
    "    three_nick = random.choice(nick_3)\n",
    "    nickname = f\"{one_nick} {two_nick} {three_nick}\"\n",
    "    return nickname\n",
    "\n",
    "randomname = creat_random_name()\n",
    "print(randomname())\n",
    "#처음에는 무엇으로 구현해야할지 감이 오지 않음\n",
    "#import random과 리스트까지 작성하고 힌트로 사용자 지정 함수인 것을 인지\n",
    "#random.choice()함수는 랜덤 숫자 생성기 의 random.randint()를 보고 randstr()을 해보았지만 실패 후 random.randstr()함수가 존재하는 검색해보고 없다는 것을 인지하고 사용가능한 random함수를 검색해서 적용해보았음\n",
    "#그외에 오타나 들여쓰기 등을 수정하여 완료"
   ]
  }
 ],
 "metadata": {
  "kernelspec": {
   "display_name": "Python 3 (ipykernel)",
   "language": "python",
   "name": "python3"
  },
  "language_info": {
   "codemirror_mode": {
    "name": "ipython",
    "version": 3
   },
   "file_extension": ".py",
   "mimetype": "text/x-python",
   "name": "python",
   "nbconvert_exporter": "python",
   "pygments_lexer": "ipython3",
   "version": "3.12.7"
  }
 },
 "nbformat": 4,
 "nbformat_minor": 5
}
